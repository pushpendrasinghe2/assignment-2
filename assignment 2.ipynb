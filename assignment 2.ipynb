{
 "cells": [
  {
   "cell_type": "code",
   "execution_count": 1,
   "id": "76e0ede1",
   "metadata": {},
   "outputs": [],
   "source": [
    "##1.What are the two values of the Boolean data type? How do you write them?"
   ]
  },
  {
   "cell_type": "code",
   "execution_count": 3,
   "id": "39a4b9f0",
   "metadata": {},
   "outputs": [],
   "source": [
    "##ans. True and False"
   ]
  },
  {
   "cell_type": "code",
   "execution_count": 4,
   "id": "05b63732",
   "metadata": {},
   "outputs": [],
   "source": [
    "#2. What are the three different types of Boolean operators?"
   ]
  },
  {
   "cell_type": "code",
   "execution_count": 5,
   "id": "0fd01126",
   "metadata": {},
   "outputs": [],
   "source": [
    "##ans.and ,or , not"
   ]
  },
  {
   "cell_type": "code",
   "execution_count": null,
   "id": "749d159d",
   "metadata": {},
   "outputs": [],
   "source": [
    "#3. Make a list of each Boolean operator's truth tables (i.e. every possible combination of Boolean values for the operator \n",
    "#and what it evaluate ).\n",
    "##ans.\n",
    "and \n",
    "1    1    1\n",
    "1    0    0\n",
    "0    1    0\n",
    "0    0    0\n",
    "\n",
    "or\n",
    "1    1     1\n",
    "1    0     1\n",
    "0    1     1\n",
    "0    0     0\n",
    "\n",
    "not\n",
    "1    0     \n",
    "0    1\n"
   ]
  },
  {
   "cell_type": "code",
   "execution_count": null,
   "id": "05a6f94c",
   "metadata": {},
   "outputs": [],
   "source": [
    "##4. What are the values of the following expressions?\n",
    "##ans. \n",
    "(5 > 4) and (3 == 5)    \n",
    "ANS - False\n",
    "not (5 > 4)\n",
    "ANS - False\n",
    "(5 > 4) or (3 == 5)\n",
    "ANS - True\n",
    "not ((5 > 4) or (3 == 5))\n",
    "ANS - False\n",
    "(True and True) and (True == False)\n",
    "ANS - False\n",
    "(not False) or (not True)\n",
    "ANS - True"
   ]
  },
  {
   "cell_type": "code",
   "execution_count": null,
   "id": "a20fd212",
   "metadata": {},
   "outputs": [],
   "source": [
    "##5. What are the six comparison operators?\n",
    "##ans. \n",
    "Six comparison operator are – \n",
    "1.  ==\n",
    "2.  !=\n",
    "3.  >\n",
    "4.  >=\n",
    "5.  <\n",
    "6.  <="
   ]
  },
  {
   "cell_type": "code",
   "execution_count": null,
   "id": "46a4aa69",
   "metadata": {},
   "outputs": [],
   "source": [
    "##6. How do you tell the difference between the equal to and assignment operators?Describe a\n",
    "##condition and when you would use one.\n",
    "##ans.\n",
    "Equal to operator use ‘==’ to compare left side and right side of the operator, whereas as single ‘ = ‘ denotes assignment operation.\n",
    "\n",
    "Example-\n",
    "d = 12 , here the variable ‘d‘ is assigned with the value 12.\n",
    "Again, \n",
    "a= 1 , b = 2\n",
    "if a==b:\n",
    "here , it is being checked if variable ‘a’ is equal to ‘b’ or not. which is false"
   ]
  },
  {
   "cell_type": "code",
   "execution_count": null,
   "id": "4390d070",
   "metadata": {},
   "outputs": [],
   "source": [
    "##7. Identify the three blocks in this code:\n",
    "spam = 0\n",
    "if spam == 10:\n",
    "print('eggs')\n",
    "if spam > 5:\n",
    "print('bacon')\n",
    "else:\n",
    "print('ham')\n",
    "print('spam')\n",
    "print('spam')\n",
    "\n",
    "##ans.\n",
    "# block 1 is - first if block\n",
    "#spam = 0\n",
    "#if spam == 10:\n",
    "#print('eggs')\n",
    "\n",
    "\n",
    "#block 2 is - second if block\n",
    "#if spam > 5:\n",
    "#print('bacon')\n",
    "\n",
    "#block 3 is - else block\n",
    "#else:\n",
    "#print('ham')\n",
    "#print('spam')\n",
    "#print('spam')\n"
   ]
  },
  {
   "cell_type": "code",
   "execution_count": null,
   "id": "4d9cdccc",
   "metadata": {},
   "outputs": [],
   "source": [
    "##8. Write code that prints Hello if 1 is stored in spam, prints Howdy if 2 is stored in spam, and prints\n",
    "##Greetings! if anything else is stored in spam."
   ]
  },
  {
   "cell_type": "code",
   "execution_count": 5,
   "id": "4babcfa8",
   "metadata": {},
   "outputs": [
    {
     "name": "stdout",
     "output_type": "stream",
     "text": [
      "Enter any number -2\n",
      "Howdy\n"
     ]
    }
   ],
   "source": [
    "##ans.\n",
    "spam = int(input(\"Enter any number -\"))\n",
    "\n",
    "if spam == 1:\n",
    "    print(\"Hello\")\n",
    "elif spam == 2:\n",
    "    print(\"Howdy\")\n",
    "else:\n",
    "    print(\"Greetings!\")"
   ]
  },
  {
   "cell_type": "code",
   "execution_count": null,
   "id": "2f4002a9",
   "metadata": {},
   "outputs": [],
   "source": [
    "##9.If your programme is stuck in an endless loop, what keys you’ll press?\n",
    "##ans. ctrl+c"
   ]
  },
  {
   "cell_type": "code",
   "execution_count": null,
   "id": "c43fa593",
   "metadata": {},
   "outputs": [],
   "source": [
    "##10. How can you tell the difference between break and continue?\n",
    "##ans. \n",
    "Break and continue works under loops.\n",
    "break keyword used to stop the execution of the loop at a specific condition.\n",
    "by this loop will terminate\n",
    "\n",
    "continue keyword used to skip a particular iteration of the loop.\n",
    "by this the loop operation will be redirected to the next iteration in loop.\n"
   ]
  },
  {
   "cell_type": "code",
   "execution_count": null,
   "id": "c99beb7d",
   "metadata": {},
   "outputs": [],
   "source": [
    "#11. In a for loop, what is the difference between range(10), range(0, 10), and range(0, 10, 1)?"
   ]
  },
  {
   "cell_type": "code",
   "execution_count": 1,
   "id": "b2b889fb",
   "metadata": {},
   "outputs": [
    {
     "name": "stdout",
     "output_type": "stream",
     "text": [
      "0 1 2 3 4 5 6 7 8 9 "
     ]
    }
   ],
   "source": [
    "for i in range(10):\n",
    "    print (i,end=' ')"
   ]
  },
  {
   "cell_type": "code",
   "execution_count": 3,
   "id": "643faaf4",
   "metadata": {},
   "outputs": [
    {
     "name": "stdout",
     "output_type": "stream",
     "text": [
      "0 1 2 3 4 5 6 7 8 9 "
     ]
    }
   ],
   "source": [
    "for i in range(0,10):\n",
    "    print (i,end=' ')"
   ]
  },
  {
   "cell_type": "code",
   "execution_count": 2,
   "id": "f270bb51",
   "metadata": {},
   "outputs": [
    {
     "name": "stdout",
     "output_type": "stream",
     "text": [
      "0 1 2 3 4 5 6 7 8 9 "
     ]
    }
   ],
   "source": [
    "for i in range(0,10,1):\n",
    "    print (i,end=' ')"
   ]
  },
  {
   "cell_type": "code",
   "execution_count": null,
   "id": "2f0c58bd",
   "metadata": {},
   "outputs": [],
   "source": [
    "All three produces the same result and means the same.\n"
   ]
  },
  {
   "cell_type": "code",
   "execution_count": 4,
   "id": "5eac893e",
   "metadata": {},
   "outputs": [],
   "source": [
    "##12. Write a short program that prints the numbers 1 to 10 using a for loop. Then write an equivalent\n",
    "##program that prints the numbers 1 to 10 using a while loop."
   ]
  },
  {
   "cell_type": "code",
   "execution_count": 5,
   "id": "8ba85108",
   "metadata": {},
   "outputs": [
    {
     "name": "stdout",
     "output_type": "stream",
     "text": [
      "1\n",
      "2\n",
      "3\n",
      "4\n",
      "5\n",
      "6\n",
      "7\n",
      "8\n",
      "9\n",
      "10\n"
     ]
    }
   ],
   "source": [
    "##ans, for loop\n",
    "for i in range(1,11):\n",
    "    print(i)"
   ]
  },
  {
   "cell_type": "code",
   "execution_count": 8,
   "id": "688da2d2",
   "metadata": {},
   "outputs": [
    {
     "name": "stdout",
     "output_type": "stream",
     "text": [
      "1\n",
      "2\n",
      "3\n",
      "4\n",
      "5\n",
      "6\n",
      "7\n",
      "8\n",
      "9\n",
      "10\n"
     ]
    }
   ],
   "source": [
    "##while loop\n",
    "i=1\n",
    "while(i<=10):\n",
    "    print(i)\n",
    "    i = i+1"
   ]
  },
  {
   "cell_type": "code",
   "execution_count": null,
   "id": "323357ff",
   "metadata": {},
   "outputs": [],
   "source": [
    "##13. If you had a function named bacon() inside a module named spam, how would you call it after importing spam?\n",
    "\n",
    "##ans.\n",
    "\n",
    "from spam import bacon \n"
   ]
  }
 ],
 "metadata": {
  "kernelspec": {
   "display_name": "Python 3 (ipykernel)",
   "language": "python",
   "name": "python3"
  },
  "language_info": {
   "codemirror_mode": {
    "name": "ipython",
    "version": 3
   },
   "file_extension": ".py",
   "mimetype": "text/x-python",
   "name": "python",
   "nbconvert_exporter": "python",
   "pygments_lexer": "ipython3",
   "version": "3.9.7"
  }
 },
 "nbformat": 4,
 "nbformat_minor": 5
}
